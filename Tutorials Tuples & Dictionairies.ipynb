{
 "cells": [
  {
   "cell_type": "markdown",
   "metadata": {},
   "source": [
    "# Introduction\n",
    "\n",
    "This particular document deals with python's `tuple`, `namedtuple`, `dict`, `defaultdict` and `Counter`. \n",
    "\n",
    "It is meant as a quick reminder on how to code in python. "
   ]
  },
  {
   "cell_type": "markdown",
   "metadata": {},
   "source": [
    "## Tuples\n",
    "\n",
    "Python has a data structure for simple data points, like coordinates called `tuples`\n",
    "\n",
    "The following is a simple list of tuples"
   ]
  },
  {
   "cell_type": "code",
   "execution_count": 1,
   "metadata": {
    "collapsed": false
   },
   "outputs": [
    {
     "name": "stdout",
     "output_type": "stream",
     "text": [
      "[(0, 'a'), (1, 'b'), (2, 'c')]\n"
     ]
    }
   ],
   "source": [
    "letter = [(0, 'a'), (1, 'b'), (2, 'c')]\n",
    "print(letter)"
   ]
  },
  {
   "cell_type": "markdown",
   "metadata": {},
   "source": [
    "Now for some more difficult code, we'll make tuples of every index in the alphabet and its letter using `enumerate`.\n",
    "\n",
    "`enumerate` will try to loop over its argument and return a tuple (index, value) for every one of them, for instance in the next example it will get the string `\"abcdefghijklmnopqrstuvwxyz\"` and loop through every letter. "
   ]
  },
  {
   "cell_type": "code",
   "execution_count": 2,
   "metadata": {
    "collapsed": false
   },
   "outputs": [
    {
     "name": "stdout",
     "output_type": "stream",
     "text": [
      "0 a\n",
      "1 b\n",
      "2 c\n",
      "3 d\n",
      "4 e\n",
      "5 f\n",
      "6 g\n",
      "7 h\n",
      "8 i\n",
      "9 j\n",
      "10 k\n",
      "11 l\n",
      "12 m\n",
      "13 n\n",
      "14 o\n",
      "15 p\n",
      "16 q\n",
      "17 r\n",
      "18 s\n",
      "19 t\n",
      "20 u\n",
      "21 v\n",
      "22 w\n",
      "23 x\n",
      "24 y\n",
      "25 z\n"
     ]
    }
   ],
   "source": [
    "for index, letter in enumerate(\"abcdefghijklmnopqrstuvwxyz\"):\n",
    "    print(index, letter)"
   ]
  },
  {
   "cell_type": "markdown",
   "metadata": {},
   "source": [
    "**Notes:**\n",
    "tuples are, what is called, immutable, that is, once created you can not modify (either by overwriting elements or adding to them)\n",
    "\n",
    "\n",
    "```\n",
    "t = (1,2,3)\n",
    "print(t[0]) # reading works\n",
    "t[0] = 4    # this line fails, because you'd be writing to it\n",
    "t.append(4) # this line fails, you cannot add to tuples after creating\n",
    "```\n",
    "\n",
    "Also you'll often come across a situation where you want to sort something based on something else, say you're dealing with persons, and you want to sort based on income. Tuples come in quite handy here as well."
   ]
  },
  {
   "cell_type": "code",
   "execution_count": 3,
   "metadata": {
    "collapsed": false
   },
   "outputs": [
    {
     "data": {
      "text/plain": [
       "[('Heijn', 49), ('Albert', 20), ('Stein', 10)]"
      ]
     },
     "execution_count": 3,
     "metadata": {},
     "output_type": "execute_result"
    }
   ],
   "source": [
    "person_names =   ['Albert', 'Heijn', 'Stein']\n",
    "person_incomes = [     20 ,     49 ,     10 ]\n",
    "\n",
    "# combine the 2 can be done with the zip function\n",
    "persons = zip(person_names, person_incomes) # returns (Albert, 20), ... , ('Stein', 10)\n",
    "\n",
    "# we want to sort based on the second argument, the income\n",
    "def give_second(person):\n",
    "    return person[1]\n",
    "\n",
    "sorted(persons, key=give_second, reverse=True) # reverse is to sort high to low, rather than the other way around"
   ]
  },
  {
   "cell_type": "markdown",
   "metadata": {},
   "source": [
    "## Named tuples\n",
    "\n",
    "Accessing tuples by indexes (`t[0]`) is considered difficult to read, so to help out, named_tuples were created (you need to get them from the `collections` module)\n",
    "\n",
    "In basis they create a class for you based off a tuple."
   ]
  },
  {
   "cell_type": "code",
   "execution_count": 4,
   "metadata": {
    "collapsed": false
   },
   "outputs": [
    {
     "name": "stdout",
     "output_type": "stream",
     "text": [
      "(1, 2)\n",
      "1\n",
      "2\n",
      "coordinate(x=1, y=2)\n",
      "1\n",
      "2\n"
     ]
    }
   ],
   "source": [
    "from collections import namedtuple\n",
    "\n",
    "# Create a new sort of tuple called a coordinate, consisting of an x, and a y\n",
    "Coordinate = namedtuple('coordinate', ['x', 'y'])\n",
    "\n",
    "# create a coordinate with a raw tuple\n",
    "raw_coordinate = (1, 2)\n",
    "proper_coordinate = Coordinate(1, 2)\n",
    "\n",
    "# difficult to tell what argument is the x and what argument is the y\n",
    "print(raw_coordinate)\n",
    "print(raw_coordinate[0])   # this is the x\n",
    "print(raw_coordinate[1])   # this is the y\n",
    "\n",
    "# easier to tell the x and y apart\n",
    "print(proper_coordinate)\n",
    "print(proper_coordinate.x) # this is the x\n",
    "print(proper_coordinate.y) # this is the y"
   ]
  },
  {
   "cell_type": "markdown",
   "metadata": {},
   "source": [
    "You could imagine that the following line:\n",
    "\n",
    "    Coordinate = namedtuple('coordinate', ['x', 'y'])\n",
    "\n",
    "translates into the following code:\n",
    "    \n",
    "    class Coordinate:\n",
    "        def __init__(self, x, y):\n",
    "            self.x = x\n",
    "            self.y = y\n",
    "\n",
    "\n",
    "The only difference is that you cannot alter the x or y after creating the Coordinate with a `namedtuple`"
   ]
  },
  {
   "cell_type": "markdown",
   "metadata": {},
   "source": [
    "# dict\n",
    "\n",
    "A very basic data type in python is the dict, short for dictionairy.\n",
    "\n",
    "The idea behind it is to map one object to another, a simple example would be an actual dictionairy, which maps a word to its definition.\n",
    "\n",
    "Or in python terminology, dicts consists of keys (the words) and a values (the desciptions), the keys as well as the values may be of any type. \n",
    "\n",
    "Going back to the dictionairy example, imagine we're trying to make an oxford `dict`. For instance if we look up the word `\"python\"` in the oxford dictionairy, we get these entries:\n",
    "\n",
    "- A large heavy-bodied non-venomous snake occurring throughout the Old World tropics, killing prey by constriction and asphyxiation.\n",
    "- Computing [mass noun] A high-level general-purpose programming language.\n",
    "\n",
    "Let's find out how we can make this, starting with an empty dictionairy."
   ]
  },
  {
   "cell_type": "code",
   "execution_count": 5,
   "metadata": {
    "collapsed": false
   },
   "outputs": [],
   "source": [
    "oxford = dict()  # long  form\n",
    "oxford = {}      # short form"
   ]
  },
  {
   "cell_type": "markdown",
   "metadata": {},
   "source": [
    "### Filling the `dict`\n",
    "\n",
    "As mentioned before, `dicts` consist out of keys and values. \n",
    "\n",
    "You're trying to map one thing to another.\n",
    "\n",
    "Let's see an example of this:"
   ]
  },
  {
   "cell_type": "code",
   "execution_count": 6,
   "metadata": {
    "collapsed": true
   },
   "outputs": [],
   "source": [
    "oxford['python'] = 'A snake'"
   ]
  },
  {
   "cell_type": "markdown",
   "metadata": {},
   "source": [
    "That's all there is to it, now let's set some more entries"
   ]
  },
  {
   "cell_type": "code",
   "execution_count": 7,
   "metadata": {
    "collapsed": true
   },
   "outputs": [],
   "source": [
    "# needs to be created first, if it didnt exist already\n",
    "oxford = dict() \n",
    "\n",
    "# filling the oxford with\n",
    "# 'a' -> 'Letter 1 of alphabet'\n",
    "# ...\n",
    "# 'z' -> 'Letter 26 of alphabet'\n",
    "for i, l in enumerate(\"abcdefghijklmnopqrstuvwxyz\"):\n",
    "    oxford[l] = 'Letter %d of the alphabet' % (i + 1)"
   ]
  },
  {
   "cell_type": "markdown",
   "metadata": {},
   "source": [
    "Since python is trying to be as short and readable as possible, it is possible to set some key value pairs while creating a dictionairy."
   ]
  },
  {
   "cell_type": "code",
   "execution_count": 8,
   "metadata": {
    "collapsed": false
   },
   "outputs": [
    {
     "name": "stdout",
     "output_type": "stream",
     "text": [
      "Letter 1 of the alphabet\n"
     ]
    }
   ],
   "source": [
    "# python's simple way of creating initialised dicts (stores 2 key,value pairs)\n",
    "oxford = {\n",
    "    'a' : 'First letter of alphabet',\n",
    "    'z' : 'Last letter of alphabet'\n",
    "}\n",
    "\n",
    "# more complicated comprehension form, allows for 26 key value pairs to be created here\n",
    "oxford = { l : 'Letter %d of the alphabet' % (i + 1) for i, l in enumerate(\"abcdefghijklmnopqrstuvwxyz\") }\n",
    "\n",
    "print(oxford['a'])"
   ]
  },
  {
   "cell_type": "markdown",
   "metadata": {},
   "source": [
    "### our oxford `dict`\n",
    "\n",
    "Looking back we saw that `\"python\"` actually can mean 2 things, since we can only store one thing in `oxford['python']` we need to work around this.\n",
    "\n",
    "We can do this by letting `oxford['python']` be a list rather than just a string:"
   ]
  },
  {
   "cell_type": "code",
   "execution_count": 9,
   "metadata": {
    "collapsed": false
   },
   "outputs": [
    {
     "name": "stdout",
     "output_type": "stream",
     "text": [
      "python:\n",
      " -  A large heavy-bodied non-venomous snake occurring throughout the Old World tropics.\n",
      " -  Computing [mass noun] A high-level general-purpose programming language.\n"
     ]
    }
   ],
   "source": [
    "oxford           = dict()\n",
    "oxford['python'] = list()\n",
    "\n",
    "# oxford['python'] is a list, so we can use the append function on it\n",
    "oxford['python'].append('A large heavy-bodied non-venomous snake occurring throughout the Old World tropics.')\n",
    "oxford['python'].append('Computing [mass noun] A high-level general-purpose programming language.')\n",
    "\n",
    "#Let's see the definitions of python:\n",
    "print(\"python:\")\n",
    "for definition in oxford['python']:\n",
    "    print(\" - \", definition)"
   ]
  },
  {
   "cell_type": "markdown",
   "metadata": {
    "collapsed": true
   },
   "source": [
    "alternatively, it could be that a dictionairy entry does not exist, resulting in a key error:"
   ]
  },
  {
   "cell_type": "code",
   "execution_count": 10,
   "metadata": {
    "collapsed": false
   },
   "outputs": [
    {
     "name": "stdout",
     "output_type": "stream",
     "text": [
      "KeyError(\"key that wasn't added\",)\n"
     ]
    }
   ],
   "source": [
    "# Wrapped in try ... except to show that an error is printed\n",
    "try:\n",
    "    oxford[\"key that wasn't added\"]\n",
    "except Exception as e:\n",
    "    print(repr(e))"
   ]
  },
  {
   "cell_type": "markdown",
   "metadata": {},
   "source": [
    "### Advanced features of dicts\n",
    "\n",
    "At times we want to know what is in a certain dict, loop over them etc.\n",
    "\n",
    "We'll discuss those here"
   ]
  },
  {
   "cell_type": "code",
   "execution_count": 11,
   "metadata": {
    "collapsed": true
   },
   "outputs": [],
   "source": [
    "# create a larger dictionairy:\n",
    "\n",
    "oxford = {\n",
    "    'html' : [\n",
    "        'Hypertext Markup Language, system for tagging text files to display World Wide Web pages.'\n",
    "    ],\n",
    "    'python' : [\n",
    "        'A large heavy-bodied non-venomous snake occurring throughout the Old World tropics.',\n",
    "        'A high-level general-purpose programming language.'\n",
    "    ],\n",
    "    'c' : [\n",
    "        'The third letter of the alphabet.',\n",
    "        'The Roman numeral for 100.'\n",
    "        'A computer programming language.'\n",
    "    ]\n",
    "}"
   ]
  },
  {
   "cell_type": "code",
   "execution_count": 12,
   "metadata": {
    "collapsed": false
   },
   "outputs": [
    {
     "name": "stdout",
     "output_type": "stream",
     "text": [
      "False\n",
      "True\n"
     ]
    }
   ],
   "source": [
    "# Check whether a key exists in a dict\n",
    "print(\"key that wasn't added\" in oxford)\n",
    "print(\"python\" in oxford)"
   ]
  },
  {
   "cell_type": "code",
   "execution_count": 13,
   "metadata": {
    "collapsed": false
   },
   "outputs": [
    {
     "name": "stdout",
     "output_type": "stream",
     "text": [
      "- python\n",
      "- c\n",
      "- html\n"
     ]
    }
   ],
   "source": [
    "# Loop over keys\n",
    "for k in oxford.keys():\n",
    "    print(\"-\", k)"
   ]
  },
  {
   "cell_type": "code",
   "execution_count": 14,
   "metadata": {
    "collapsed": false
   },
   "outputs": [
    {
     "name": "stdout",
     "output_type": "stream",
     "text": [
      "- python\n",
      "- c\n",
      "- html\n"
     ]
    }
   ],
   "source": [
    "# Looping over just the dictionairy, loops over keys as well\n",
    "for k in oxford:\n",
    "    print(\"-\", k)"
   ]
  },
  {
   "cell_type": "code",
   "execution_count": 15,
   "metadata": {
    "collapsed": false
   },
   "outputs": [
    {
     "name": "stdout",
     "output_type": "stream",
     "text": [
      "- entry:\n",
      "    - A large heavy-bodied non-venomous snake occurring throughout the Old World tropics.\n",
      "    - A high-level general-purpose programming language.\n",
      "\n",
      "- entry:\n",
      "    - The third letter of the alphabet.\n",
      "    - The Roman numeral for 100.A computer programming language.\n",
      "\n",
      "- entry:\n",
      "    - Hypertext Markup Language, system for tagging text files to display World Wide Web pages.\n",
      "\n"
     ]
    }
   ],
   "source": [
    "# Looping over values (note that you cannot easily get back to keys from here)\n",
    "for value in oxford.values():\n",
    "    print(\"- entry:\")\n",
    "    for description in value:\n",
    "        print(\"    -\", description)\n",
    "    print(\"\") # leave some space"
   ]
  },
  {
   "cell_type": "code",
   "execution_count": 16,
   "metadata": {
    "collapsed": false
   },
   "outputs": [
    {
     "name": "stdout",
     "output_type": "stream",
     "text": [
      "- entry python\n",
      "    - A large heavy-bodied non-venomous snake occurring throughout the Old World tropics.\n",
      "    - A high-level general-purpose programming language.\n",
      "\n",
      "- entry c\n",
      "    - The third letter of the alphabet.\n",
      "    - The Roman numeral for 100.A computer programming language.\n",
      "\n",
      "- entry html\n",
      "    - Hypertext Markup Language, system for tagging text files to display World Wide Web pages.\n",
      "\n"
     ]
    }
   ],
   "source": [
    "# Looping over key value pairs\n",
    "for key, value in oxford.items():\n",
    "    print(\"- entry\", key)\n",
    "    for description in value:\n",
    "        print(\"    -\", description)\n",
    "    print(\"\") # leave some space"
   ]
  },
  {
   "cell_type": "markdown",
   "metadata": {},
   "source": [
    "## `defaultdict` and `Counter`\n",
    "\n",
    "**Note these objects need to be imported from collections**\n",
    "\n",
    "At some point there was a need for 2 extra objects, which work for a large part the same as `dicts` with some modifications. \n",
    "\n",
    "The defaultdict is able to call what are called default constructors, and Counters... well they count stuff.\n",
    "\n",
    "We'll see some examples.\n",
    "\n",
    "In our previous example, with the oxford `dict` every value was supposed to be a list. The disadvantage is that before you can add a definition it needs the list to be there\n",
    "\n",
    "    # assumes we already made a list at oxford['Ruby']\n",
    "    oxford['Ruby'].append('precious stone') \n",
    "    \n",
    "    # creates a new list, possibly overwriting a previous one\n",
    "    oxford['Ruby'] = [ 'precious stone' ]\n",
    "    \n",
    "    # overwrites possible previous one and doesn't allow multiple definitions of 'ruby'\n",
    "    oxford['Ruby'] = 'precious stone'       \n",
    "\n",
    "Now in an attempt to make it easier for python developers, the `defaultdict` was created. \n",
    "This allows for default objects to be placed. For example"
   ]
  },
  {
   "cell_type": "code",
   "execution_count": 17,
   "metadata": {
    "collapsed": false
   },
   "outputs": [
    {
     "name": "stdout",
     "output_type": "stream",
     "text": [
      "['a new item']\n",
      "[]\n"
     ]
    }
   ],
   "source": [
    "from collections import defaultdict\n",
    "\n",
    "# Every item that is requested, but not set will be an empty list\n",
    "oxford = defaultdict(list)\n",
    "\n",
    "# add as if it was already in the dictionairy\n",
    "oxford['item that didnt yet exist'].append('a new item')\n",
    "\n",
    "print(oxford['item that didnt yet exist'])\n",
    "print(oxford['another item that didnt yet exist'])"
   ]
  },
  {
   "cell_type": "markdown",
   "metadata": {},
   "source": [
    "Essentially, it changes the behaviour when you want to read from something that isn't in the dictionairy yet.\n",
    "\n",
    "Usually that would result in an exception as seen before, but with the defaultdict, it creates an object with the given function."
   ]
  },
  {
   "cell_type": "code",
   "execution_count": 18,
   "metadata": {
    "collapsed": false
   },
   "outputs": [
    {
     "name": "stdout",
     "output_type": "stream",
     "text": [
      "False\n",
      "True\n"
     ]
    }
   ],
   "source": [
    "# This also works with other objects/functions etc.\n",
    "have_i_visited = defaultdict(bool) # bool returns False by default\n",
    "print(have_i_visited['grandma'])   # not even, you monster\n",
    "\n",
    "have_i_visited['grandma'] = True\n",
    "print(have_i_visited['grandma'])   # better"
   ]
  },
  {
   "cell_type": "markdown",
   "metadata": {},
   "source": [
    "### `Counter`\n",
    "\n",
    "It takes... well, a number of objects and counts them. \n",
    "\n",
    "The object than works as a dictionairy, with all the keys being the objects it got, and the values how many times it found them:"
   ]
  },
  {
   "cell_type": "code",
   "execution_count": 19,
   "metadata": {
    "collapsed": false
   },
   "outputs": [
    {
     "name": "stdout",
     "output_type": "stream",
     "text": [
      "Letter - Frequency\n",
      "b        2\n",
      "a        5\n"
     ]
    }
   ],
   "source": [
    "from collections import Counter\n",
    "\n",
    "to_count = ['a', 'a', 'b', 'a', 'a', 'a', 'b']\n",
    "counter = Counter(to_count)\n",
    "\n",
    "print(\"Letter - Frequency\")\n",
    "for key, value in counter.items():\n",
    "    print(key,\"      \",value)"
   ]
  },
  {
   "cell_type": "markdown",
   "metadata": {},
   "source": [
    "Additionally it offers the following interesting functions:"
   ]
  },
  {
   "cell_type": "code",
   "execution_count": 20,
   "metadata": {
    "collapsed": false
   },
   "outputs": [
    {
     "name": "stdout",
     "output_type": "stream",
     "text": [
      "b b a a a a a "
     ]
    }
   ],
   "source": [
    "# elements()\n",
    "# return the input back, by returning the elements x the times they occurred\n",
    "for word in counter.elements():\n",
    "    print(word, end=' ')"
   ]
  },
  {
   "cell_type": "code",
   "execution_count": 21,
   "metadata": {
    "collapsed": false
   },
   "outputs": [
    {
     "name": "stdout",
     "output_type": "stream",
     "text": [
      "a  -  5\n",
      "b  -  2\n"
     ]
    }
   ],
   "source": [
    "# most_common(n)\n",
    "# returns the n most common elements, in order of most common to least.\n",
    "for word, freq in counter.most_common(2):\n",
    "    print(word, \" - \", freq)"
   ]
  },
  {
   "cell_type": "code",
   "execution_count": 22,
   "metadata": {
    "collapsed": false
   },
   "outputs": [
    {
     "name": "stdout",
     "output_type": "stream",
     "text": [
      "the  :  1505\n",
      "and  :   714\n",
      "to   :   703\n",
      "a    :   611\n",
      "of   :   490\n",
      "she  :   484\n",
      "said :   416\n",
      "it   :   346\n",
      "in   :   344\n",
      "was  :   328\n"
     ]
    }
   ],
   "source": [
    "# update()\n",
    "# allows to add another input, which it will add to the counted words\n",
    "\n",
    "# unimportant function that returns all words in the alice.txt file\n",
    "def words_alice():\n",
    "    with open(\"alice.txt\") as f:\n",
    "        for line in f:\n",
    "            for word in line.split():\n",
    "                yield word\n",
    "\n",
    "# updating our counter with all the words in alice in wonderland\n",
    "counter.update(words_alice())\n",
    "\n",
    "\n",
    "for word, freq in counter.most_common(10):\n",
    "    # don't pay attention to the formatting below, its just to align\n",
    "    print(\"%-4s : %5d\" % (word, freq))"
   ]
  },
  {
   "cell_type": "code",
   "execution_count": null,
   "metadata": {
    "collapsed": true
   },
   "outputs": [],
   "source": []
  }
 ],
 "metadata": {
  "anaconda-cloud": {},
  "kernelspec": {
   "display_name": "Python [default]",
   "language": "python",
   "name": "python3"
  },
  "language_info": {
   "codemirror_mode": {
    "name": "ipython",
    "version": 3
   },
   "file_extension": ".py",
   "mimetype": "text/x-python",
   "name": "python",
   "nbconvert_exporter": "python",
   "pygments_lexer": "ipython3",
   "version": "3.5.2"
  }
 },
 "nbformat": 4,
 "nbformat_minor": 0
}
