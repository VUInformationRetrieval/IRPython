{
 "cells": [
  {
   "cell_type": "markdown",
   "metadata": {},
   "source": [
    "# Introduction\n",
    "\n",
    "This particular document deals with python's `tuple`, `namedtuple`, `dict`, `defaultdict` and `Counter`. \n",
    "\n",
    "It is meant as a quick reminder on how to code in python. "
   ]
  },
  {
   "cell_type": "markdown",
   "metadata": {},
   "source": [
    "## Tuples\n",
    "\n",
    "Python has a data structure for simple data points, like coordinates called `tuples`\n",
    "\n",
    "The following is a simple list of tuples"
   ]
  },
  {
   "cell_type": "code",
   "execution_count": 5,
   "metadata": {
    "collapsed": false
   },
   "outputs": [
    {
     "name": "stdout",
     "output_type": "stream",
     "text": [
      "[(0, 'a'), (1, 'b'), (2, 'c')]\n"
     ]
    }
   ],
   "source": [
    "letter = [(0, 'a'), (1, 'b'), (2, 'c')]\n",
    "print(letter)"
   ]
  },
  {
   "cell_type": "markdown",
   "metadata": {},
   "source": [
    "Now for some more difficult code, we'll make tuples of every index in the alphabet and its letter using `enumerate`.\n",
    "\n",
    "`enumerate` will try to loop over its argument and return a tuple (index, value) for every one of them, for instance in the next example it will get the string `\"abcdefghijklmnopqrstuvwxyz\"` and loop through every letter. "
   ]
  },
  {
   "cell_type": "code",
   "execution_count": 21,
   "metadata": {
    "collapsed": false
   },
   "outputs": [
    {
     "name": "stdout",
     "output_type": "stream",
     "text": [
      "0 a\n",
      "1 b\n",
      "2 c\n",
      "3 d\n",
      "4 e\n",
      "5 f\n",
      "6 g\n",
      "7 h\n",
      "8 i\n",
      "9 j\n",
      "10 k\n",
      "11 l\n",
      "12 m\n",
      "13 n\n",
      "14 o\n",
      "15 p\n",
      "16 q\n",
      "17 r\n",
      "18 s\n",
      "19 t\n",
      "20 u\n",
      "21 v\n",
      "22 w\n",
      "23 x\n",
      "24 y\n",
      "25 z\n"
     ]
    }
   ],
   "source": [
    "for index, letter in enumerate(\"abcdefghijklmnopqrstuvwxyz\"):\n",
    "    print(index, letter)"
   ]
  },
  {
   "cell_type": "markdown",
   "metadata": {},
   "source": [
    "**Notes:**\n",
    "tuples are, what is called, immutable, that is, once created you can not modify (either by overwriting elements or adding to them)\n",
    "\n",
    "\n",
    "```\n",
    "t = (1,2,3)\n",
    "print(t[0]) # reading works\n",
    "t[0] = 4    # this line fails, because you'd be writing to it\n",
    "t.append(4) # this line fails, you cannot add to tuples after creating\n",
    "```"
   ]
  },
  {
   "cell_type": "markdown",
   "metadata": {},
   "source": [
    "## Named tuples\n",
    "\n",
    "Accessing tuples by indexes (`t[0]`) is considered difficult to read, so to help out, named_tuples were created (you need to get them from the `collections` module)\n",
    "\n",
    "In basis they create a class for you based off a tuple."
   ]
  },
  {
   "cell_type": "code",
   "execution_count": 18,
   "metadata": {
    "collapsed": false
   },
   "outputs": [
    {
     "name": "stdout",
     "output_type": "stream",
     "text": [
      "(1, 2)\n",
      "1\n",
      "2\n",
      "coordinate(x=1, y=2)\n",
      "1\n",
      "2\n"
     ]
    }
   ],
   "source": [
    "from collections import namedtuple\n",
    "\n",
    "# Create a new sort of tuple called a coordinate, consisting of an x, and a y\n",
    "Coordinate = namedtuple('coordinate', ['x', 'y'])\n",
    "\n",
    "# create a coordinate with a raw tuple\n",
    "raw_coordinate = (1, 2)\n",
    "proper_coordinate = Coordinate(1, 2)\n",
    "\n",
    "# difficult to tell what argument is the x and what argument is the y\n",
    "print(raw_coordinate)\n",
    "print(raw_coordinate[0])   # this is the x\n",
    "print(raw_coordinate[1])   # this is the y\n",
    "\n",
    "# easier to tell the x and y apart\n",
    "print(proper_coordinate)\n",
    "print(proper_coordinate.x) # this is the x\n",
    "print(proper_coordinate.y) # this is the y"
   ]
  },
  {
   "cell_type": "markdown",
   "metadata": {},
   "source": [
    "You could imagine that the following line:\n",
    "\n",
    "```\n",
    "Coordinate = namedtuple('coordinate', ['x', 'y'])\n",
    "```\n",
    "\n",
    "translates into the following code:\n",
    "    \n",
    "```\n",
    "class Coordinate:\n",
    "    def __init__(self, x, y):\n",
    "        self.x = x\n",
    "        self.y = y\n",
    "````"
   ]
  },
  {
   "cell_type": "markdown",
   "metadata": {},
   "source": [
    "# dict\n",
    "\n",
    "A very basic data type in python is the dict, short for dictionairy.\n",
    "\n",
    "The idea behind it is to map one object to another, a simple example would be an actual dictionairy, which maps a word to its definition.\n",
    "\n",
    "For instance if we look up the word \"python\" in the oxford dictionairy, we get these entries:\n",
    "\n",
    "- A large heavy-bodied non-venomous snake occurring throughout the Old World tropics, killing prey by constriction and asphyxiation.\n",
    "\n",
    "- Computing [mass noun] A high-level general-purpose programming language.\n",
    "\n",
    "Let's see how we can put this in a `dict`:\n",
    "\n",
    "First of all we need to create a dictionairy, this can be done in the following ways. *They do the same thing*"
   ]
  },
  {
   "cell_type": "code",
   "execution_count": 24,
   "metadata": {
    "collapsed": false
   },
   "outputs": [],
   "source": [
    "oxford = dict()  # long  form\n",
    "oxford = {}      # short form"
   ]
  },
  {
   "cell_type": "markdown",
   "metadata": {},
   "source": [
    "`dicts` consist out of keys and values. You're trying to map one thing to another. \n",
    "\n",
    "In the case of the oxford dictionairy, it maps a word to its definitions. \n",
    "\n",
    "**It is important to note here that one key has one value, however both the keys as well as the values may be of any type**\n",
    "\n",
    "This means that the next example would actually **overwrite** the entry `oxford['python']`\n",
    "\n",
    "```\n",
    "oxford['python'] = 'A large heavy-bodied non-venomous snake occurring throughout the Old World tropics, killing prey by constriction and asphyxiation.'\n",
    "oxford['python'] = 'Computing [mass noun] A high-level general-purpose programming language.'\n",
    "```\n",
    "\n",
    "Now `oxford['python']` only has the last value.\n",
    "\n",
    "One way to do it is to put the definitions in a list and assign that like below:"
   ]
  },
  {
   "cell_type": "code",
   "execution_count": 29,
   "metadata": {
    "collapsed": false
   },
   "outputs": [],
   "source": [
    "oxford['python'] = list()\n",
    "\n",
    "# oxford['python'] is a list, so we can use the append function on it\n",
    "oxford['python'].append('A large heavy-bodied non-venomous snake occurring throughout the Old World tropics, killing prey by constriction and asphyxiation.')\n",
    "oxford['python'].append('Computing [mass noun] A high-level general-purpose programming language.')"
   ]
  },
  {
   "cell_type": "code",
   "execution_count": 31,
   "metadata": {
    "collapsed": false
   },
   "outputs": [
    {
     "name": "stdout",
     "output_type": "stream",
     "text": [
      "Computing [mass noun] A high-level general-purpose programming language.\n"
     ]
    }
   ],
   "source": [
    "#Let's see the second definition of python\n",
    "print(oxford['python'][1])"
   ]
  },
  {
   "cell_type": "code",
   "execution_count": null,
   "metadata": {
    "collapsed": true
   },
   "outputs": [],
   "source": []
  }
 ],
 "metadata": {
  "kernelspec": {
   "display_name": "Python 3",
   "language": "python",
   "name": "python3"
  },
  "language_info": {
   "codemirror_mode": {
    "name": "ipython",
    "version": 3
   },
   "file_extension": ".py",
   "mimetype": "text/x-python",
   "name": "python",
   "nbconvert_exporter": "python",
   "pygments_lexer": "ipython3",
   "version": "3.5.2"
  }
 },
 "nbformat": 4,
 "nbformat_minor": 0
}
