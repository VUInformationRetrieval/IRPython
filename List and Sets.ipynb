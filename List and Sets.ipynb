{
 "cells": [
  {
   "cell_type": "markdown",
   "metadata": {},
   "source": [
    "# List\n",
    "In Python, a list is an *ordered* list of items with the same types. It is denoted by a set of square brackets."
   ]
  },
  {
   "cell_type": "code",
   "execution_count": 1,
   "metadata": {
    "collapsed": false
   },
   "outputs": [],
   "source": [
    "# Create an empty list\n",
    "empty_list = []\n",
    "# A list of strings\n",
    "string_list = [\"apple\", \"orange\", \"banana\"]\n",
    "# A list of numbers\n",
    "number_list = [1, 1, 2, 2, 3, 42, 50, 100, 99999]"
   ]
  },
  {
   "cell_type": "markdown",
   "metadata": {},
   "source": [
    "## Length of a list\n",
    "\n",
    "To get the length/size of a list, you can use `len(list)`."
   ]
  },
  {
   "cell_type": "code",
   "execution_count": 2,
   "metadata": {
    "collapsed": false
   },
   "outputs": [
    {
     "name": "stdout",
     "output_type": "stream",
     "text": [
      "The length of the number list: 9\n"
     ]
    }
   ],
   "source": [
    "print(\"The length of the number list: %s\" % len(number_list))"
   ]
  },
  {
   "cell_type": "markdown",
   "metadata": {},
   "source": [
    "## Get an item from a list\n",
    "\n",
    "Lists are ordered by their index. The index starts from 0, so the first item has index 0, the second item has index 1, and so on.\n",
    "\n",
    "To get an item from a list, use `list[index_of_item]`, for example `list[0]`"
   ]
  },
  {
   "cell_type": "code",
   "execution_count": 3,
   "metadata": {
    "collapsed": false
   },
   "outputs": [
    {
     "name": "stdout",
     "output_type": "stream",
     "text": [
      "The third item in the number list: 2\n"
     ]
    }
   ],
   "source": [
    "print(\"The third item in the number list: %s\" % number_list[2])"
   ]
  },
  {
   "cell_type": "markdown",
   "metadata": {},
   "source": [
    "## Get multiple items from a list\n",
    "You can get multiple connected items from a list with the [slice notation](https://docs.python.org/3.5/tutorial/introduction.html)."
   ]
  },
  {
   "cell_type": "code",
   "execution_count": 4,
   "metadata": {
    "collapsed": false
   },
   "outputs": [
    {
     "name": "stdout",
     "output_type": "stream",
     "text": [
      "[1, 1, 2, 2, 3]\n",
      "[1, 1, 2, 2, 3]\n",
      "[42, 50, 100, 99999]\n"
     ]
    }
   ],
   "source": [
    "print(number_list[0:5])   # items from index 0 to 4 (5-1)\n",
    "print(number_list[:5])    # items from the beginning to index 4\n",
    "print(number_list[5:])    # items from index 5 to the end"
   ]
  },
  {
   "cell_type": "markdown",
   "metadata": {},
   "source": [
    "## List comprehension\n",
    "\n",
    "List comprehension is a quick way to get parts of a list according to some condition. It makes the code shorter compared with for loops.\n",
    "\n",
    "We will use the number list above. Let's say we want to get the number from the list which is larger than 50. This is how beginners normally do it:"
   ]
  },
  {
   "cell_type": "code",
   "execution_count": 5,
   "metadata": {
    "collapsed": false
   },
   "outputs": [
    {
     "name": "stdout",
     "output_type": "stream",
     "text": [
      "[100, 99999]\n"
     ]
    }
   ],
   "source": [
    "larger_than_50 = []\n",
    "for number in number_list:\n",
    "    if number > 50:\n",
    "        larger_than_50.append(number)\n",
    "        \n",
    "print(larger_than_50)"
   ]
  },
  {
   "cell_type": "markdown",
   "metadata": {},
   "source": [
    "The code below does the same thing:"
   ]
  },
  {
   "cell_type": "code",
   "execution_count": 6,
   "metadata": {
    "collapsed": false
   },
   "outputs": [
    {
     "name": "stdout",
     "output_type": "stream",
     "text": [
      "[100, 99999]\n"
     ]
    }
   ],
   "source": [
    "larger_than_50_improved = [n for n in number_list if n > 50]\n",
    "print(larger_than_50_improved)"
   ]
  },
  {
   "cell_type": "markdown",
   "metadata": {},
   "source": [
    "# Sets\n",
    "A set is similar to a list, but they are unordered and the items have to be unique. A set uses curly brackets instead of square brackets."
   ]
  },
  {
   "cell_type": "code",
   "execution_count": 7,
   "metadata": {
    "collapsed": false
   },
   "outputs": [
    {
     "name": "stdout",
     "output_type": "stream",
     "text": [
      "[1, 1, 2, 2, 3, 42, 50, 100, 99999]\n",
      "{1, 2, 3, 100, 42, 50, 99999}\n"
     ]
    }
   ],
   "source": [
    "# Create an empty set\n",
    "empty_set = {}\n",
    "# A set of strings\n",
    "string_set = {\"apple\", \"orange\", \"banana\"}\n",
    "# A set of numbers\n",
    "number_set = {1, 1, 2, 2, 3, 42, 50, 100, 99999}\n",
    "# All the items in a set must be unique, duplicate items are eliminated\n",
    "print(number_list)\n",
    "print(number_set)"
   ]
  },
  {
   "cell_type": "markdown",
   "metadata": {},
   "source": [
    "## Length of a set\n",
    "Similar to a list, you use `len(set)` to find the length of a set."
   ]
  },
  {
   "cell_type": "code",
   "execution_count": 8,
   "metadata": {
    "collapsed": false
   },
   "outputs": [
    {
     "name": "stdout",
     "output_type": "stream",
     "text": [
      "The length of the number set: 7\n"
     ]
    }
   ],
   "source": [
    "print(\"The length of the number set: %s\" % len(number_set))"
   ]
  },
  {
   "cell_type": "markdown",
   "metadata": {},
   "source": [
    "## Getting item(s) from a set\n",
    "Since a set is not ordered, it is not possible to get an item from a set using an index. However, you can check if an item is in a set:"
   ]
  },
  {
   "cell_type": "code",
   "execution_count": 12,
   "metadata": {
    "collapsed": false
   },
   "outputs": [
    {
     "name": "stdout",
     "output_type": "stream",
     "text": [
      "Is 42 in the number set? Yes\n"
     ]
    }
   ],
   "source": [
    "print(\"Is 42 in the number set? %s\" % \"Yes\" if 42 in number_set else \"No\")"
   ]
  },
  {
   "cell_type": "markdown",
   "metadata": {},
   "source": [
    "## Set comprehension\n",
    "Set comprehension is similar to list comprehension if you need to get part of a set according to some condition."
   ]
  },
  {
   "cell_type": "code",
   "execution_count": 20,
   "metadata": {
    "collapsed": false
   },
   "outputs": [
    {
     "name": "stdout",
     "output_type": "stream",
     "text": [
      "{100, 99999}\n",
      "{1, 2, 3, 42}\n",
      "[1, 2, 3, 42]\n"
     ]
    }
   ],
   "source": [
    "set_larger_than_50 = {n for n in number_set if n > 50}\n",
    "print(set_larger_than_50)\n",
    "\n",
    "# You can mix list comprehension and set comprehension\n",
    "print ({n for n in number_list if n < 50})    # A set from filtering a list\n",
    "print([n for n in number_set if n < 50])      # A list from filtering a set"
   ]
  }
 ],
 "metadata": {
  "anaconda-cloud": {},
  "kernelspec": {
   "display_name": "Python [default]",
   "language": "python",
   "name": "python3"
  },
  "language_info": {
   "codemirror_mode": {
    "name": "ipython",
    "version": 3
   },
   "file_extension": ".py",
   "mimetype": "text/x-python",
   "name": "python",
   "nbconvert_exporter": "python",
   "pygments_lexer": "ipython3",
   "version": "3.5.2"
  }
 },
 "nbformat": 4,
 "nbformat_minor": 1
}
